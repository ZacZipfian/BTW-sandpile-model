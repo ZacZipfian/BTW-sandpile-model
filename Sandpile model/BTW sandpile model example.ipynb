{
 "cells": [
  {
   "cell_type": "markdown",
   "metadata": {},
   "source": [
    "# BTW sandpile model code \n",
    "#### (Could use some optimisation)\n",
    "\n",
    "Starting with a sandpile model with no voids and then adding voids later."
   ]
  },
  {
   "cell_type": "code",
   "execution_count": 18,
   "metadata": {},
   "outputs": [],
   "source": [
    "# Dependencies for both sections\n",
    "import numpy as np\n",
    "import pandas as pd\n",
    "import random\n",
    "import matplotlib.pyplot as plt\n",
    "import csv"
   ]
  },
  {
   "cell_type": "code",
   "execution_count": 19,
   "metadata": {},
   "outputs": [],
   "source": [
    "# Function to calculate radius\n",
    "def radius_shortcut(vector_j, near):\n",
    "    if near == True:\n",
    "        rad = ((vector_j[2] - vector_j[0])**2 + (vector_j[3] - vector_j[1])**2)**(0.5)\n",
    "    else:\n",
    "        rad = ((vector_j[4] - vector_j[0])**2 + (vector_j[5] - vector_j[1])**2)**(0.5)\n",
    "\n",
    "    return rad[0]"
   ]
  },
  {
   "cell_type": "code",
   "execution_count": 20,
   "metadata": {},
   "outputs": [],
   "source": [
    "# This function performs the avalanche operation in the sandpile model\n",
    "# Updates sand matrix / event matrix / vector of radii (floats)\n",
    "def cascader_updated4(N, sand_matrix, prev_updt, event_add, m, k, rolling_radius, time_counter ):\n",
    "    #matrix manipulation\n",
    "    inter_matrix = np.zeros((N+2,N+2), dtype=int)\n",
    "    topple_map = sand_matrix // 4 #Clever\n",
    "    UP = np.s_[0:N, 1:N+1]\n",
    "    DOWN = np.s_[2:N+2, 1:N+1]\n",
    "    LEFT = np.s_[1:N+1, 0:N]\n",
    "    RIGHT = np.s_[1:N+1, 2:N+2]\n",
    "    MIDDLE = np.s_[1:N+1, 1:N+1]\n",
    "    inter_matrix[UP] += topple_map\n",
    "    inter_matrix[DOWN] += topple_map\n",
    "    inter_matrix[LEFT] += topple_map\n",
    "    inter_matrix[RIGHT] += topple_map\n",
    "    inter_matrix = inter_matrix[MIDDLE]\n",
    "    prev_updt += topple_map\n",
    "\n",
    "    #update sand matrix\n",
    "    sand_matrix += inter_matrix\n",
    "    sand_matrix -= 4*topple_map\n",
    "\n",
    "    #update event vector\n",
    "    event_add[0][1] = time_counter #life-time\n",
    "    event_add[0][2] += np.sum(topple_map) #size\n",
    "    event_add[0][3] = np.count_nonzero(prev_updt == 1)# unique area\n",
    "    event_add[0][4] = (np.sum(sand_matrix) + 1)  #mass\n",
    "\n",
    "    #calculate radius\n",
    "    coordinate_vec = np.zeros((4,1))\n",
    "    rowscols = np.argwhere(topple_map>0)\n",
    "    coordinate_vec[0] = rowscols[0][0] \n",
    "    coordinate_vec[1] = rowscols[0][1] \n",
    "    coordinate_vec[2] = rowscols[len(rowscols)-1][0] \n",
    "    coordinate_vec[3] = rowscols[len(rowscols)-1][1] \n",
    "\n",
    "    rolling_rad1 = radius_shortcut([m, k, coordinate_vec[0], coordinate_vec[1], coordinate_vec[2], coordinate_vec[3]], True)\n",
    "    rolling_rad2 = radius_shortcut([m, k, coordinate_vec[0], coordinate_vec[1], coordinate_vec[2], coordinate_vec[3]],  False)\n",
    "    interum_radi = 0.0\n",
    "    if rolling_rad1 > rolling_rad2:\n",
    "        interum_radi = rolling_rad1\n",
    "    else:\n",
    "        interum_radi = rolling_rad2\n",
    "\n",
    "    if interum_radi > rolling_radius:\n",
    "        rolling_radius = interum_radi\n",
    "        \n",
    "    return rolling_radius "
   ]
  },
  {
   "cell_type": "markdown",
   "metadata": {},
   "source": [
    "The sand_pile_simulation4(N,t) function creates a CSV containing all the event data that occurs during the simulation. The CSV file has five columns containing the following data: [0:\"time\", 1:\"life-time\", 2:\"size\", 3:\"area\", 4:\"mass\"]."
   ]
  },
  {
   "cell_type": "code",
   "execution_count": 21,
   "metadata": {},
   "outputs": [],
   "source": [
    "# Sand pile simulator \n",
    "def sand_pile_simulation4(N,t):\n",
    "    csv_name = \"SP\"+str(N)+\",\"+str(t)\n",
    "    with open(str(csv_name)+'.csv', 'w',newline='') as csvfile:\n",
    "        writer = csv.writer(csvfile, delimiter =',')\n",
    "        writer.writerow(['time','life-time','size','area','mass','radius'])\n",
    "\n",
    "    sand_matrix = np.zeros((N,N), dtype=int)\n",
    "    prev_updt = np.zeros((N,N), dtype=int)\n",
    "\n",
    "    for i in range(t):\n",
    "        check = np.any(sand_matrix >= 4)\n",
    "\n",
    "        if check == False:\n",
    "           m = random.randint(0, (N-1)) \n",
    "           k = random.randint(0, (N-1)) \n",
    "           sand_matrix[m,k] += 1 \n",
    "\n",
    "        else:\n",
    "            event_add = np.zeros((1,5), dtype=int) #[0:\"time\", 1:\"life-time\", 2:\"size\", 3:\"area\", 4:\"mass\"]\n",
    "            event_add[0][0] = i\n",
    "            rolling_radius = 0.0\n",
    "            time_counter = 0\n",
    "\n",
    "            while check == True:\n",
    "                time_counter += 1\n",
    "                rolling_radius = cascader_updated4(N, sand_matrix, prev_updt, event_add, m, k, rolling_radius, time_counter )#\n",
    "                check = np.any(sand_matrix >= 4)\n",
    "\n",
    "            with open(str(csv_name)+'.csv', 'a',newline='') as csvfile:\n",
    "                writer = csv.writer(csvfile, delimiter =',')\n",
    "                writer.writerow([event_add[0][0],event_add[0][1],event_add[0][2],event_add[0][3],event_add[0][4],rolling_radius])\n",
    "\n",
    "            m = random.randint(0, (N-1)) \n",
    "            k = random.randint(0, (N-1)) \n",
    "            sand_matrix[m,k] += 1 \n",
    "            prev_updt = np.zeros((N,N), dtype=int)\n",
    "\n",
    "    return sand_matrix"
   ]
  },
  {
   "cell_type": "markdown",
   "metadata": {},
   "source": [
    "This code below runs the defined functions and outputs the CSV file."
   ]
  },
  {
   "cell_type": "code",
   "execution_count": 22,
   "metadata": {},
   "outputs": [],
   "source": [
    "#Choose variables and run simulation\n",
    "N = 20\n",
    "t = 10000 \n",
    "sand_matrix = sand_pile_simulation4(N,t)"
   ]
  },
  {
   "cell_type": "markdown",
   "metadata": {},
   "source": [
    "#### Working with the CSV file\n",
    "\n",
    "Read the CSV file that was saved to the same directory, load in the data."
   ]
  },
  {
   "cell_type": "code",
   "execution_count": 23,
   "metadata": {},
   "outputs": [],
   "source": [
    "csv_name = \"SP\"+str(N)+\",\"+str(t)\n",
    "df = pd.read_csv(csv_name+'.csv')"
   ]
  },
  {
   "cell_type": "code",
   "execution_count": 24,
   "metadata": {},
   "outputs": [],
   "source": [
    "# Add new column of data, the time between avalanches\n",
    "df[\"interval\"] = df[\"time\"].diff()\n",
    "df.loc[0, \"interval\"] = 0"
   ]
  },
  {
   "cell_type": "markdown",
   "metadata": {},
   "source": [
    "Example of the data generated:"
   ]
  },
  {
   "cell_type": "code",
   "execution_count": 25,
   "metadata": {},
   "outputs": [
    {
     "data": {
      "text/html": [
       "<div>\n",
       "<style scoped>\n",
       "    .dataframe tbody tr th:only-of-type {\n",
       "        vertical-align: middle;\n",
       "    }\n",
       "\n",
       "    .dataframe tbody tr th {\n",
       "        vertical-align: top;\n",
       "    }\n",
       "\n",
       "    .dataframe thead th {\n",
       "        text-align: right;\n",
       "    }\n",
       "</style>\n",
       "<table border=\"1\" class=\"dataframe\">\n",
       "  <thead>\n",
       "    <tr style=\"text-align: right;\">\n",
       "      <th></th>\n",
       "      <th>time</th>\n",
       "      <th>life-time</th>\n",
       "      <th>size</th>\n",
       "      <th>area</th>\n",
       "      <th>mass</th>\n",
       "      <th>radius</th>\n",
       "      <th>interval</th>\n",
       "    </tr>\n",
       "  </thead>\n",
       "  <tbody>\n",
       "    <tr>\n",
       "      <th>0</th>\n",
       "      <td>112</td>\n",
       "      <td>1</td>\n",
       "      <td>1</td>\n",
       "      <td>1</td>\n",
       "      <td>113</td>\n",
       "      <td>0.000000</td>\n",
       "      <td>0.0</td>\n",
       "    </tr>\n",
       "    <tr>\n",
       "      <th>1</th>\n",
       "      <td>174</td>\n",
       "      <td>1</td>\n",
       "      <td>1</td>\n",
       "      <td>1</td>\n",
       "      <td>174</td>\n",
       "      <td>0.000000</td>\n",
       "      <td>62.0</td>\n",
       "    </tr>\n",
       "    <tr>\n",
       "      <th>2</th>\n",
       "      <td>230</td>\n",
       "      <td>1</td>\n",
       "      <td>1</td>\n",
       "      <td>1</td>\n",
       "      <td>230</td>\n",
       "      <td>0.000000</td>\n",
       "      <td>56.0</td>\n",
       "    </tr>\n",
       "    <tr>\n",
       "      <th>3</th>\n",
       "      <td>236</td>\n",
       "      <td>1</td>\n",
       "      <td>1</td>\n",
       "      <td>1</td>\n",
       "      <td>235</td>\n",
       "      <td>0.000000</td>\n",
       "      <td>6.0</td>\n",
       "    </tr>\n",
       "    <tr>\n",
       "      <th>4</th>\n",
       "      <td>238</td>\n",
       "      <td>1</td>\n",
       "      <td>1</td>\n",
       "      <td>1</td>\n",
       "      <td>236</td>\n",
       "      <td>0.000000</td>\n",
       "      <td>2.0</td>\n",
       "    </tr>\n",
       "    <tr>\n",
       "      <th>...</th>\n",
       "      <td>...</td>\n",
       "      <td>...</td>\n",
       "      <td>...</td>\n",
       "      <td>...</td>\n",
       "      <td>...</td>\n",
       "      <td>...</td>\n",
       "      <td>...</td>\n",
       "    </tr>\n",
       "    <tr>\n",
       "      <th>3902</th>\n",
       "      <td>9993</td>\n",
       "      <td>1</td>\n",
       "      <td>1</td>\n",
       "      <td>1</td>\n",
       "      <td>843</td>\n",
       "      <td>0.000000</td>\n",
       "      <td>2.0</td>\n",
       "    </tr>\n",
       "    <tr>\n",
       "      <th>3903</th>\n",
       "      <td>9994</td>\n",
       "      <td>23</td>\n",
       "      <td>73</td>\n",
       "      <td>73</td>\n",
       "      <td>830</td>\n",
       "      <td>12.806248</td>\n",
       "      <td>1.0</td>\n",
       "    </tr>\n",
       "    <tr>\n",
       "      <th>3904</th>\n",
       "      <td>9995</td>\n",
       "      <td>3</td>\n",
       "      <td>3</td>\n",
       "      <td>3</td>\n",
       "      <td>830</td>\n",
       "      <td>1.414214</td>\n",
       "      <td>1.0</td>\n",
       "    </tr>\n",
       "    <tr>\n",
       "      <th>3905</th>\n",
       "      <td>9996</td>\n",
       "      <td>40</td>\n",
       "      <td>299</td>\n",
       "      <td>114</td>\n",
       "      <td>821</td>\n",
       "      <td>10.630146</td>\n",
       "      <td>1.0</td>\n",
       "    </tr>\n",
       "    <tr>\n",
       "      <th>3906</th>\n",
       "      <td>9997</td>\n",
       "      <td>18</td>\n",
       "      <td>44</td>\n",
       "      <td>44</td>\n",
       "      <td>817</td>\n",
       "      <td>9.899495</td>\n",
       "      <td>1.0</td>\n",
       "    </tr>\n",
       "  </tbody>\n",
       "</table>\n",
       "<p>3907 rows × 7 columns</p>\n",
       "</div>"
      ],
      "text/plain": [
       "      time  life-time  size  area  mass     radius  interval\n",
       "0      112          1     1     1   113   0.000000       0.0\n",
       "1      174          1     1     1   174   0.000000      62.0\n",
       "2      230          1     1     1   230   0.000000      56.0\n",
       "3      236          1     1     1   235   0.000000       6.0\n",
       "4      238          1     1     1   236   0.000000       2.0\n",
       "...    ...        ...   ...   ...   ...        ...       ...\n",
       "3902  9993          1     1     1   843   0.000000       2.0\n",
       "3903  9994         23    73    73   830  12.806248       1.0\n",
       "3904  9995          3     3     3   830   1.414214       1.0\n",
       "3905  9996         40   299   114   821  10.630146       1.0\n",
       "3906  9997         18    44    44   817   9.899495       1.0\n",
       "\n",
       "[3907 rows x 7 columns]"
      ]
     },
     "execution_count": 25,
     "metadata": {},
     "output_type": "execute_result"
    }
   ],
   "source": [
    "df"
   ]
  },
  {
   "cell_type": "markdown",
   "metadata": {},
   "source": [
    "Now we need to transform this data and plot our results."
   ]
  },
  {
   "cell_type": "code",
   "execution_count": 26,
   "metadata": {},
   "outputs": [],
   "source": [
    "#Use this dataframe to get a vector of the mass of the pile over time.\n",
    "mass_vec = np.zeros(t-1,dtype=int)\n",
    "count_t = 0\n",
    "for j in range(t-1):\n",
    "    mass_vec[j] = mass_vec[j-1] + 1\n",
    "    if df[\"time\"][count_t] == j:\n",
    "        mass_vec[j] = df[\"mass\"][count_t]\n",
    "        if count_t < len(df)-1:\n",
    "            count_t += 1\n"
   ]
  },
  {
   "cell_type": "code",
   "execution_count": 27,
   "metadata": {},
   "outputs": [
    {
     "data": {
      "text/plain": [
       "Text(0.5, 1.0, 'mass vs time')"
      ]
     },
     "execution_count": 27,
     "metadata": {},
     "output_type": "execute_result"
    },
    {
     "data": {
      "image/png": "[encoded data removed]",
      "text/plain": [
       "<Figure size 640x480 with 1 Axes>"
      ]
     },
     "metadata": {},
     "output_type": "display_data"
    }
   ],
   "source": [
    "#Plot mass over time\n",
    "plt.plot(mass_vec)\n",
    "plt.xlabel('time')\n",
    "plt.ylabel('mass')\n",
    "plt.title('mass vs time')"
   ]
  },
  {
   "cell_type": "markdown",
   "metadata": {},
   "source": [
    "Plot interval frequency vs count on a log-log plot."
   ]
  },
  {
   "cell_type": "code",
   "execution_count": 28,
   "metadata": {},
   "outputs": [
    {
     "data": {
      "image/png": "[encoded data removed]",
      "text/plain": [
       "<Figure size 640x480 with 1 Axes>"
      ]
     },
     "metadata": {},
     "output_type": "display_data"
    }
   ],
   "source": [
    "(df[\"interval\"][1:].value_counts()).plot()\n",
    "plt.yscale('log')\n",
    "plt.xscale('log')"
   ]
  },
  {
   "cell_type": "markdown",
   "metadata": {},
   "source": [
    "## Now we can add voids!\n",
    "\n",
    "#### (We need to update our previous functions to handle voids)"
   ]
  },
  {
   "cell_type": "code",
   "execution_count": 29,
   "metadata": {},
   "outputs": [],
   "source": [
    "# Avalanche operator, void inclusive\n",
    "def cascader_updated5(N, sand_matrix, prev_updt, event_add, m, k, rolling_radius, time_counter, void_list):\n",
    "    #matrix manipulation /// include voids\n",
    "    inter_matrix = np.zeros((N+2,N+2), dtype=int)\n",
    "    topple_map = sand_matrix // 4 \n",
    "    UP = np.s_[0:N, 1:N+1]\n",
    "    DOWN = np.s_[2:N+2, 1:N+1]\n",
    "    LEFT = np.s_[1:N+1, 0:N]\n",
    "    RIGHT = np.s_[1:N+1, 2:N+2]\n",
    "    MIDDLE = np.s_[1:N+1, 1:N+1]\n",
    "    inter_matrix[UP] += topple_map\n",
    "    inter_matrix[DOWN] += topple_map\n",
    "    inter_matrix[LEFT] += topple_map\n",
    "    inter_matrix[RIGHT] += topple_map\n",
    "    inter_matrix = inter_matrix[MIDDLE]\n",
    "    prev_updt += topple_map\n",
    "\n",
    "    #update sand matrix\n",
    "    sand_matrix += inter_matrix\n",
    "    sand_matrix -= 4*topple_map\n",
    "\n",
    "    #voids\n",
    "    for j in range(len(void_list)):\n",
    "        jv = void_list[j]\n",
    "        sand_matrix[jv[0]][jv[1]] = 0\n",
    "\n",
    "    #update event vector\n",
    "    event_add[0][1] = time_counter #life-time\n",
    "    event_add[0][2] += np.sum(topple_map) #size\n",
    "    event_add[0][3] = np.count_nonzero(prev_updt == 1)# unique area\n",
    "    event_add[0][4] = (np.sum(sand_matrix) + 1)  #mass\n",
    "\n",
    "    #calculate radius\n",
    "    coordinate_vec = np.zeros((4,1))\n",
    "    rowscols = np.argwhere(topple_map>0)\n",
    "    coordinate_vec[0] = rowscols[0][0] \n",
    "    coordinate_vec[1] = rowscols[0][1] \n",
    "    coordinate_vec[2] = rowscols[len(rowscols)-1][0] \n",
    "    coordinate_vec[3] = rowscols[len(rowscols)-1][1] \n",
    "\n",
    "    rolling_rad1 = radius_shortcut([m, k, coordinate_vec[0], coordinate_vec[1], coordinate_vec[2], coordinate_vec[3]], True)\n",
    "    rolling_rad2 = radius_shortcut([m, k, coordinate_vec[0], coordinate_vec[1], coordinate_vec[2], coordinate_vec[3]],  False)\n",
    "    interum_radi = 0.0\n",
    "    if rolling_rad1 > rolling_rad2:\n",
    "        interum_radi = rolling_rad1\n",
    "    else:\n",
    "        interum_radi = rolling_rad2\n",
    "\n",
    "    if interum_radi > rolling_radius:\n",
    "        rolling_radius = interum_radi\n",
    "        \n",
    "    return rolling_radius "
   ]
  },
  {
   "cell_type": "code",
   "execution_count": 30,
   "metadata": {},
   "outputs": [],
   "source": [
    "# Sandpile simulation, void inclusive\n",
    "def sand_pile_simulation5_1(N,t,voids,novoids, v_id):\n",
    "    csv_name = \"SP\"+str(N)+\",\"+str(t)+v_id\n",
    "    with open(str(csv_name)+'.csv', 'w',newline='') as csvfile:\n",
    "        writer = csv.writer(csvfile, delimiter =',')\n",
    "        writer.writerow(['time','life-time','size','area','mass','radius'])\n",
    "\n",
    "    sand_matrix = np.zeros((N,N), dtype=int)\n",
    "    prev_updt = np.zeros((N,N), dtype=int)\n",
    "\n",
    "    for i in range(t):\n",
    "        check = np.any(sand_matrix >= 4)\n",
    "\n",
    "        if check == False:\n",
    "            rannum = random.randint(0, len(novoids)-1) \n",
    "            non_void = novoids[rannum]\n",
    "            m = non_void[0]\n",
    "            k = non_void[1]\n",
    "            sand_matrix[m,k] += 1 \n",
    "\n",
    "\n",
    "        else:\n",
    "            event_add = np.zeros((1,5), dtype=int) #[0:\"time\", 1:\"life-time\", 2:\"size\", 3:\"area\", 4:\"mass\"]\n",
    "            event_add[0][0] = i\n",
    "            rolling_radius = 0.0\n",
    "            time_counter = 0\n",
    "\n",
    "            while check == True:\n",
    "                time_counter += 1\n",
    "                rolling_radius = cascader_updated5(N, sand_matrix, prev_updt, event_add, m, k, rolling_radius, time_counter, voids)\n",
    "                check = np.any(sand_matrix >= 4)\n",
    "\n",
    "            with open(str(csv_name)+'.csv', 'a',newline='') as csvfile:\n",
    "                writer = csv.writer(csvfile, delimiter =',')\n",
    "                writer.writerow([event_add[0][0],event_add[0][1],event_add[0][2],event_add[0][3],event_add[0][4],rolling_radius])\n",
    "\n",
    "            rannum = random.randint(0, len(novoids)-1) \n",
    "            non_void = novoids[rannum]\n",
    "            m = non_void[0]\n",
    "            k = non_void[1]\n",
    "            sand_matrix[m,k] += 1 \n",
    "            prev_updt = np.zeros((N,N), dtype=int)\n",
    "      \n",
    "    return sand_matrix"
   ]
  },
  {
   "cell_type": "markdown",
   "metadata": {},
   "source": [
    "Define a void shape and run the simulation, it will generate a CSV file like last time:"
   ]
  },
  {
   "cell_type": "code",
   "execution_count": 31,
   "metadata": {},
   "outputs": [],
   "source": [
    "# Diamond shaped void, creates two lists, containing the coordinates of all voids / non-void grids\n",
    "def diamond_void2(N):\n",
    "    v_list = []\n",
    "    count = 1\n",
    "    for i in range(int(N/2)):\n",
    "        num2 = int(N/2)- (1+ i)\n",
    "        iterate = list(range(0,num2))\n",
    "        for j in range(len(iterate)):\n",
    "            end = N-1\n",
    "            v_list.append([i,iterate[j]])\n",
    "            v_list.append([(end-i),iterate[j]])\n",
    "            #other side\n",
    "            ots = iterate[j] + (N-1) - 2*j\n",
    "            v_list.append([i,ots])\n",
    "            v_list.append([(end-i),ots])\n",
    "\n",
    "    fillin = np.zeros((N,N), dtype=int)\n",
    "    for k in range(len(v_list)):\n",
    "        fin = v_list[k]\n",
    "        fillin[fin[0]][fin[1]] += 1\n",
    "\n",
    "    novoids = []\n",
    "    for l in range(N):\n",
    "        for p in range(N):\n",
    "            if fillin[l,p] != 1:\n",
    "                novoids.append([l,p])\n",
    "\n",
    "    return v_list, novoids\n"
   ]
  },
  {
   "cell_type": "code",
   "execution_count": 32,
   "metadata": {},
   "outputs": [],
   "source": [
    "N = 60\n",
    "t = 50000\n",
    "\n",
    "voids, novoids = diamond_void2(N)\n",
    "v_id = \"vDT_1\"\n",
    "\n",
    "sand_matrix = sand_pile_simulation5_1(N,t,voids,novoids,v_id)\n"
   ]
  },
  {
   "cell_type": "markdown",
   "metadata": {},
   "source": [
    "Read in the CSV data and plot the mass vs time again."
   ]
  },
  {
   "cell_type": "code",
   "execution_count": 33,
   "metadata": {},
   "outputs": [
    {
     "data": {
      "text/plain": [
       "Text(0.5, 1.0, 'mass vs time')"
      ]
     },
     "execution_count": 33,
     "metadata": {},
     "output_type": "execute_result"
    },
    {
     "data": {
      "image/png": "[encoded data removed]",
      "text/plain": [
       "<Figure size 640x480 with 1 Axes>"
      ]
     },
     "metadata": {},
     "output_type": "display_data"
    }
   ],
   "source": [
    "csv_name = \"SP\"+str(N)+\",\"+str(t)+v_id\n",
    "df2 = pd.read_csv(csv_name+'.csv')\n",
    "\n",
    "#Use this dataframe to get a vector of the mass of the pile over time.\n",
    "mass_vec2 = np.zeros(t-1,dtype=int)\n",
    "count_t = 0\n",
    "for j in range(t-1):\n",
    "    mass_vec2[j] = mass_vec2[j-1] + 1\n",
    "    if df2[\"time\"][count_t] == j:\n",
    "        mass_vec2[j] = df2[\"mass\"][count_t]\n",
    "        if count_t < len(df2)-1:\n",
    "            count_t += 1\n",
    "\n",
    "#Plot mass over time\n",
    "plt.plot(mass_vec2)\n",
    "plt.xlabel('time')\n",
    "plt.ylabel('mass')\n",
    "plt.title('mass vs time')"
   ]
  }
 ],
 "metadata": {
  "kernelspec": {
   "display_name": "Python 3",
   "language": "python",
   "name": "python3"
  },
  "language_info": {
   "codemirror_mode": {
    "name": "ipython",
    "version": 3
   },
   "file_extension": ".py",
   "mimetype": "text/x-python",
   "name": "python",
   "nbconvert_exporter": "python",
   "pygments_lexer": "ipython3",
   "version": "3.12.1"
  }
 },
 "nbformat": 4,
 "nbformat_minor": 2
}
