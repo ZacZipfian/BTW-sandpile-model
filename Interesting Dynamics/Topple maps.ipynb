{
 "cells": [
  {
   "cell_type": "markdown",
   "metadata": {},
   "source": [
    "# Topple maps\n",
    "\n",
    "#### (Created behind the scenes when generating the identity element)"
   ]
  },
  {
   "cell_type": "code",
   "execution_count": 1,
   "metadata": {},
   "outputs": [],
   "source": [
    "# Dependencies\n",
    "import numpy as np\n",
    "import pandas as pd\n",
    "import random\n",
    "import matplotlib.pyplot as plt\n"
   ]
  },
  {
   "cell_type": "markdown",
   "metadata": {},
   "source": [
    "Define necessary functions for creating / visualising topple maps "
   ]
  },
  {
   "cell_type": "code",
   "execution_count": 2,
   "metadata": {},
   "outputs": [],
   "source": [
    "# Void inclusive avalanche operator\n",
    "def cascader_void(N, sand_matrix, voids):\n",
    "    inter_matrix = np.zeros((N+2,N+2), dtype=int)\n",
    "    topple_map = sand_matrix // 4 \n",
    "    UP = np.s_[0:N, 1:N+1]\n",
    "    DOWN = np.s_[2:N+2, 1:N+1]\n",
    "    LEFT = np.s_[1:N+1, 0:N]\n",
    "    RIGHT = np.s_[1:N+1, 2:N+2]\n",
    "    MIDDLE = np.s_[1:N+1, 1:N+1]\n",
    "    inter_matrix[UP] += topple_map\n",
    "    inter_matrix[DOWN] += topple_map\n",
    "    inter_matrix[LEFT] += topple_map\n",
    "    inter_matrix[RIGHT] += topple_map\n",
    "    inter_matrix = inter_matrix[MIDDLE]\n",
    "\n",
    "    #update sand matrix\n",
    "    sand_matrix += inter_matrix\n",
    "    sand_matrix -= 4*topple_map\n",
    "\n",
    "    # This is slow but works for the small numbers we are working with\n",
    "    for i in range(len(voids)):\n",
    "        void = voids[i]\n",
    "        sand_matrix[void[0]][void[1]] = 0"
   ]
  },
  {
   "cell_type": "code",
   "execution_count": 3,
   "metadata": {},
   "outputs": [],
   "source": [
    "# Avalanche operator which supports N / voids, that returns the topple map\n",
    "def cascader_void_topple(N, sand_matrix, voids):\n",
    "    inter_matrix = np.zeros((N+2,N+2), dtype=int)\n",
    "    topple_map = sand_matrix // 4 \n",
    "    UP = np.s_[0:N, 1:N+1]\n",
    "    DOWN = np.s_[2:N+2, 1:N+1]\n",
    "    LEFT = np.s_[1:N+1, 0:N]\n",
    "    RIGHT = np.s_[1:N+1, 2:N+2]\n",
    "    MIDDLE = np.s_[1:N+1, 1:N+1]\n",
    "    inter_matrix[UP] += topple_map\n",
    "    inter_matrix[DOWN] += topple_map\n",
    "    inter_matrix[LEFT] += topple_map\n",
    "    inter_matrix[RIGHT] += topple_map\n",
    "    inter_matrix = inter_matrix[MIDDLE]\n",
    "\n",
    "    #update sand matrix\n",
    "    sand_matrix += inter_matrix\n",
    "    sand_matrix -= 4*topple_map\n",
    "\n",
    "    # This is slow but works for the small numbers we are working with\n",
    "    for i in range(len(voids)):\n",
    "        void = voids[i]\n",
    "        sand_matrix[void[0]][void[1]] = 0\n",
    "\n",
    "    return topple_map"
   ]
  },
  {
   "cell_type": "code",
   "execution_count": 4,
   "metadata": {},
   "outputs": [],
   "source": [
    "# A function to get a specific topple map at pos = a.\n",
    "def get_topple_map(N, void_config, pos):\n",
    "    # Define void-inclusive matrix pre-topple\n",
    "    void_shape = np.zeros((N,N), dtype=int)\n",
    "    for k in range(len(void_config)):\n",
    "        vs = void_config[k]\n",
    "        void_shape[vs[0]][vs[1]] += 1\n",
    "\n",
    "    build = np.ones((N, N), dtype=int)\n",
    "    build2 = build - void_shape\n",
    "    ident = build2 * 6\n",
    "    ident2 = build2 * 6\n",
    "\n",
    "    # empty topple map\n",
    "    topple_time = np.zeros((N,N), dtype=int)\n",
    "\n",
    "\n",
    "    # Topple to get (2p)^o, check for pos (position)\n",
    "    count = 0\n",
    "    while np.any(ident >= 4):\n",
    "        if count != pos:\n",
    "            cascader_void(N, ident, void_config)\n",
    "        else:\n",
    "            topple_time = cascader_void_topple(N, ident, void_config)\n",
    "            return topple_time\n",
    "        count += 1\n",
    "\n",
    "    # Topple to get G (identity matrix)\n",
    "    ident3 = ident2 - ident\n",
    "    count2 = 0\n",
    "    while np.any(ident3 >= 4):\n",
    "        if (count + count2) != pos:\n",
    "            cascader_void(N, ident3, void_config)\n",
    "        else:\n",
    "            topple_time = cascader_void_topple(N, ident3, void_config)\n",
    "            return topple_time\n",
    "        count2 += 1\n",
    "\n",
    "    # Incase the pos entered is too high\n",
    "    return (count + count2)"
   ]
  },
  {
   "cell_type": "code",
   "execution_count": 5,
   "metadata": {},
   "outputs": [],
   "source": [
    "# Find out how many unique topple maps there are for some given N / void configuration\n",
    "def get_topple_number(N, void_config):\n",
    "    # Define void-inclusive matrix pre-topple\n",
    "    void_shape = np.zeros((N,N), dtype=int)\n",
    "    for k in range(len(void_config)):\n",
    "        vs = void_config[k]\n",
    "        void_shape[vs[0]][vs[1]] += 1\n",
    "\n",
    "    build = np.ones((N, N), dtype=int)\n",
    "    build2 = build - void_shape\n",
    "    ident = build2 * 6\n",
    "    ident2 = build2 * 6\n",
    "\n",
    "    # empty topple map\n",
    "    topple_time = np.zeros((N,N), dtype=int)\n",
    "\n",
    "\n",
    "    # Topple to get (2p)^o, check for pos (position)\n",
    "    count = 0\n",
    "    while np.any(ident >= 4):\n",
    "        cascader_void(N, ident, void_config)\n",
    "        count += 1\n",
    "\n",
    "    # Topple to get G (identity matrix)\n",
    "    ident3 = ident2 - ident\n",
    "    count2 = 0\n",
    "    while np.any(ident3 >= 4):\n",
    "        cascader_void(N, ident3, void_config)\n",
    "        count2 += 1\n",
    "\n",
    "    # Incase the pos entered is too high\n",
    "    return (count + count2)"
   ]
  },
  {
   "cell_type": "markdown",
   "metadata": {},
   "source": [
    "#### Example of how these functions work and what topple maps look like:"
   ]
  },
  {
   "cell_type": "code",
   "execution_count": 6,
   "metadata": {},
   "outputs": [
    {
     "data": {
      "text/plain": [
       "6629"
      ]
     },
     "execution_count": 6,
     "metadata": {},
     "output_type": "execute_result"
    }
   ],
   "source": [
    "get_topple_number(100, [])"
   ]
  },
  {
   "cell_type": "code",
   "execution_count": 7,
   "metadata": {},
   "outputs": [
    {
     "data": {
      "text/plain": [
       "<matplotlib.image.AxesImage at 0x283e8b796d0>"
      ]
     },
     "execution_count": 7,
     "metadata": {},
     "output_type": "execute_result"
    },
    {
     "data": {
      "image/png": "[encoded data removed]",
      "text/plain": [
       "<Figure size 480x480 with 1 Axes>"
      ]
     },
     "metadata": {},
     "output_type": "display_data"
    }
   ],
   "source": [
    "my_topple = get_topple_map(100, [], 6550)\n",
    "plt.matshow(my_topple)"
   ]
  },
  {
   "cell_type": "markdown",
   "metadata": {},
   "source": [
    "### Code to create an animation of all the topple maps:"
   ]
  },
  {
   "cell_type": "code",
   "execution_count": 8,
   "metadata": {},
   "outputs": [],
   "source": [
    "# Avalanche operator for the evolving_fractal_gif2 function\n",
    "def cascader_updated_I5(N, sand_matrix, voids):\n",
    "    inter_matrix = np.zeros((N+2,N+2), dtype=int)\n",
    "    topple_map = sand_matrix // 4 \n",
    "    UP = np.s_[0:N, 1:N+1]\n",
    "    DOWN = np.s_[2:N+2, 1:N+1]\n",
    "    LEFT = np.s_[1:N+1, 0:N]\n",
    "    RIGHT = np.s_[1:N+1, 2:N+2]\n",
    "    MIDDLE = np.s_[1:N+1, 1:N+1]\n",
    "    inter_matrix[UP] += topple_map\n",
    "    inter_matrix[DOWN] += topple_map\n",
    "    inter_matrix[LEFT] += topple_map\n",
    "    inter_matrix[RIGHT] += topple_map\n",
    "    inter_matrix = inter_matrix[MIDDLE]\n",
    "\n",
    "    #update sand matrix\n",
    "    sand_matrix += inter_matrix\n",
    "    sand_matrix -= 4*topple_map\n",
    "\n",
    "    topple_map = 2*topple_map\n",
    "    for i in range(len(voids)):\n",
    "        void = voids[i]\n",
    "        sand_matrix[void[0]][void[1]] = 0\n",
    "        topple_map[void[0]][void[1]] = 1\n",
    "\n",
    "    return topple_map"
   ]
  },
  {
   "cell_type": "code",
   "execution_count": 9,
   "metadata": {},
   "outputs": [],
   "source": [
    "import matplotlib.pyplot as plt\n",
    "import os\n",
    "import time\n",
    "from PIL import Image\n",
    "\n",
    "\n",
    "def evolving_fractal_gif2(N, voids, gif_path, duration=500):\n",
    "    # Initialise Identity and topple matrices\n",
    "    void_shape = np.zeros((N,N), dtype=int)\n",
    "    for k in range(len(voids)):\n",
    "        vs = voids[k]\n",
    "        void_shape[vs[0]][vs[1]] += 1\n",
    "\n",
    "    build = np.ones((N, N), dtype=int)\n",
    "    build2 = build - void_shape\n",
    "    ident = build2 * 6\n",
    "    ident2 = build2 * 6\n",
    "    topple_time = np.zeros((N, N), dtype=int)\n",
    "    \n",
    "    # Temporary list to store the image paths\n",
    "    image_paths = []\n",
    "    \n",
    "    # Visualize\n",
    "    count = 0\n",
    "    while np.any(ident >= 4):\n",
    "        topple_time = cascader_updated_I5(N, ident, voids)\n",
    "        plt.matshow(topple_time)\n",
    "            \n",
    "        # Save the image to a temporary path\n",
    "        temp_path = f\"temp_matshow_{count}.png\"\n",
    "        plt.savefig(temp_path)\n",
    "        plt.close()\n",
    "        image_paths.append(temp_path)\n",
    "\n",
    "        count += 1\n",
    "    \n",
    "    ident3 = ident2 - ident\n",
    "    topple_time = np.zeros((N, N), dtype=int)\n",
    "\n",
    "    count2 = 1 \n",
    "    while np.any(ident3 >= 4):\n",
    "        topple_time = cascader_updated_I5(N, ident3, voids)\n",
    "        plt.matshow(topple_time)\n",
    "            \n",
    "        # Save the image to a temporary path\n",
    "        temp_path = f\"temp_matshow_{count+count2}.png\"\n",
    "        plt.savefig(temp_path)\n",
    "        plt.close()\n",
    "        image_paths.append(temp_path)\n",
    "        \n",
    "        count2 += 1\n",
    "\n",
    "    # Create a list of PIL images\n",
    "    images = [Image.open(img_path) for img_path in image_paths]\n",
    "    \n",
    "    # Save as GIF\n",
    "    images[0].save(gif_path, save_all=True, append_images=images[1:], duration=duration, loop=0)\n",
    "    \n",
    "    # Clean up temporary files\n",
    "    for img_path in image_paths:\n",
    "        os.remove(img_path)\n"
   ]
  },
  {
   "cell_type": "markdown",
   "metadata": {},
   "source": [
    "Run this animation code, change N or gif_path. Warning, this code is very slow."
   ]
  },
  {
   "cell_type": "code",
   "execution_count": 11,
   "metadata": {},
   "outputs": [],
   "source": [
    "if __name__ == \"__main__\":\n",
    "    N = 30  # Example matrix size\n",
    "    gif_path = \"topple_evolution.gif\"\n",
    "    \n",
    "    new_idenity = evolving_fractal_gif2(N, [], gif_path, duration=500)\n"
   ]
  }
 ],
 "metadata": {
  "kernelspec": {
   "display_name": "Python 3",
   "language": "python",
   "name": "python3"
  },
  "language_info": {
   "codemirror_mode": {
    "name": "ipython",
    "version": 3
   },
   "file_extension": ".py",
   "mimetype": "text/x-python",
   "name": "python",
   "nbconvert_exporter": "python",
   "pygments_lexer": "ipython3",
   "version": "3.12.1"
  }
 },
 "nbformat": 4,
 "nbformat_minor": 2
}
